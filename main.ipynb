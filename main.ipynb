{
 "cells": [
  {
   "cell_type": "code",
   "execution_count": 1,
   "id": "df537667",
   "metadata": {},
   "outputs": [],
   "source": [
    "from power import *\n",
    "from systems import *"
   ]
  },
  {
   "cell_type": "code",
   "execution_count": 2,
   "id": "ad3598ae",
   "metadata": {},
   "outputs": [
    {
     "name": "stdout",
     "output_type": "stream",
     "text": [
      "[Bus(id=1, type=Slack, v=1.000 pu, theta=0.000 rad, p=0.000 pu, q=0.000 pu, shunt=0.000+0.000j pu, gen=1, load=0), Bus(id=2, type=PV, v=1.000 pu, theta=0.000 rad, p=-0.570 pu, q=0.000 pu, shunt=0.000+0.000j pu, gen=1, load=1), Bus(id=3, type=PV, v=1.000 pu, theta=0.000 rad, p=-4.800 pu, q=0.000 pu, shunt=0.000+0.000j pu, gen=1, load=1)]\n"
     ]
    }
   ],
   "source": [
    "net = three_bus()\n",
    "print(net.buses)"
   ]
  },
  {
   "cell_type": "code",
   "execution_count": 3,
   "id": "7aa94b68",
   "metadata": {},
   "outputs": [
    {
     "name": "stdout",
     "output_type": "stream",
     "text": [
      "[Generator(id=1, bus=1, p=0.000, q=0.000, p_range=[0.000,2.500], q_range=[-999.99,999.99]),, Generator(id=2, bus=2, p=0.000, q=0.000, p_range=[0.000,1.570], q_range=[-999.99,999.99]),, Generator(id=3, bus=3, p=0.000, q=0.000, p_range=[0.000,2.900], q_range=[-999.99,999.99]),]\n",
      "WARNING: DEPRECATED: Param 'generator_bus' declared with an implicit domain of\n",
      "'Any'. The default domain for Param objects is 'Any'.  However, we will be\n",
      "changing that default to 'Reals' in the future.  If you really intend the\n",
      "domain of this Paramto be 'Any', you can suppress this warning by explicitly\n",
      "specifying 'within=Any' to the Param constructor.  (deprecated in 5.6.9, will\n",
      "be removed in (or after) 6.0) (called from\n",
      "c:\\Users\\gabri\\miniconda3\\envs\\optimization\\Lib\\site-\n",
      "packages\\pyomo\\core\\base\\indexed_component.py:718)\n",
      "WARNING: DEPRECATED: Param 'load_bus' declared with an implicit domain of\n",
      "'Any'. The default domain for Param objects is 'Any'.  However, we will be\n",
      "changing that default to 'Reals' in the future.  If you really intend the\n",
      "domain of this Paramto be 'Any', you can suppress this warning by explicitly\n",
      "specifying 'within=Any' to the Param constructor.  (deprecated in 5.6.9, will\n",
      "be removed in (or after) 6.0) (called from\n",
      "c:\\Users\\gabri\\miniconda3\\envs\\optimization\\Lib\\site-\n",
      "packages\\pyomo\\core\\base\\indexed_component.py:718)\n",
      "WARNING: DEPRECATED: Param 'line_from' declared with an implicit domain of\n",
      "'Any'. The default domain for Param objects is 'Any'.  However, we will be\n",
      "changing that default to 'Reals' in the future.  If you really intend the\n",
      "domain of this Paramto be 'Any', you can suppress this warning by explicitly\n",
      "specifying 'within=Any' to the Param constructor.  (deprecated in 5.6.9, will\n",
      "be removed in (or after) 6.0) (called from\n",
      "c:\\Users\\gabri\\miniconda3\\envs\\optimization\\Lib\\site-\n",
      "packages\\pyomo\\core\\base\\indexed_component.py:718)\n",
      "WARNING: DEPRECATED: Param 'line_to' declared with an implicit domain of\n",
      "'Any'. The default domain for Param objects is 'Any'.  However, we will be\n",
      "changing that default to 'Reals' in the future.  If you really intend the\n",
      "domain of this Paramto be 'Any', you can suppress this warning by explicitly\n",
      "specifying 'within=Any' to the Param constructor. (deprecated in 5.6.9, will\n",
      "be removed in (or after) 6.0) (called from\n",
      "c:\\Users\\gabri\\miniconda3\\envs\\optimization\\Lib\\site-\n",
      "packages\\pyomo\\core\\base\\indexed_component.py:718)\n",
      "WARNING: DEPRECATED: Param 'bus_type' declared with an implicit domain of\n",
      "'Any'. The default domain for Param objects is 'Any'.  However, we will be\n",
      "changing that default to 'Reals' in the future.  If you really intend the\n",
      "domain of this Paramto be 'Any', you can suppress this warning by explicitly\n",
      "specifying 'within=Any' to the Param constructor.  (deprecated in 5.6.9, will\n",
      "be removed in (or after) 6.0) (called from\n",
      "c:\\Users\\gabri\\miniconda3\\envs\\optimization\\Lib\\site-\n",
      "packages\\pyomo\\core\\base\\indexed_component.py:718)\n"
     ]
    }
   ],
   "source": [
    "\n",
    "print(net.generators)\n",
    "solver = PNL_OPF(net)"
   ]
  },
  {
   "cell_type": "code",
   "execution_count": 4,
   "id": "05693d9b",
   "metadata": {},
   "outputs": [
    {
     "name": "stdout",
     "output_type": "stream",
     "text": [
      "4 Set Declarations\n",
      "    buses : Conjunto de barras\n",
      "        Size=1, Index=None, Ordered=Insertion\n",
      "        Key  : Dimen : Domain : Size : Members\n",
      "        None :     1 :    Any :    3 : {'Bus 1', 'Bus 2', 'Bus 3'}\n",
      "    generators : Conjunto de geradores\n",
      "        Size=1, Index=None, Ordered=Insertion\n",
      "        Key  : Dimen : Domain : Size : Members\n",
      "        None :     1 :    Any :    3 : {'PG1', 'PG2', 'PG3'}\n",
      "    lines : Conjunto de linhas\n",
      "        Size=1, Index=None, Ordered=Insertion\n",
      "        Key  : Dimen : Domain : Size : Members\n",
      "        None :     1 :    Any :    3 : {'Line 1', 'Line 2', 'Line 3'}\n",
      "    loads : Conjunto de cargas\n",
      "        Size=1, Index=None, Ordered=Insertion\n",
      "        Key  : Dimen : Domain : Size : Members\n",
      "        None :     1 :    Any :    2 : {'PL2', 'PL3'}\n",
      "\n",
      "13 Param Declarations\n",
      "    bus_type : Size=3, Index=buses, Domain=Any, Default=None, Mutable=False\n",
      "        Key   : Value\n",
      "        Bus 1 : Slack\n",
      "        Bus 2 :    PV\n",
      "        Bus 3 :    PV\n",
      "    flow_max : Size=3, Index=lines, Domain=Any, Default=None, Mutable=False\n",
      "        Key    : Value\n",
      "        Line 1 :  0.87\n",
      "        Line 2 :   2.0\n",
      "        Line 3 :   0.2\n",
      "    generator_bus : Size=3, Index=generators, Domain=Any, Default=None, Mutable=False\n",
      "        Key : Value\n",
      "        PG1 : Bus 1\n",
      "        PG2 : Bus 2\n",
      "        PG3 : Bus 3\n",
      "    generator_cost_a : Size=3, Index=generators, Domain=Any, Default=None, Mutable=False\n",
      "        Key : Value\n",
      "        PG1 : 1697.0\n",
      "        PG2 : 1086.0\n",
      "        PG3 : 1879.0\n",
      "    generator_cost_b : Size=3, Index=generators, Domain=Any, Default=None, Mutable=False\n",
      "        Key : Value\n",
      "        PG1 :            539.75\n",
      "        PG2 :            1935.5\n",
      "        PG3 : 931.1600000000001\n",
      "    generator_cost_c : Size=3, Index=generators, Domain=Any, Default=None, Mutable=False\n",
      "        Key : Value\n",
      "        PG1 :             0.2176\n",
      "        PG2 : 1.9380000000000002\n",
      "        PG3 :             0.1457\n",
      "    generator_pmax : Size=3, Index=generators, Domain=Any, Default=None, Mutable=False\n",
      "        Key : Value\n",
      "        PG1 :   2.5\n",
      "        PG2 :  1.57\n",
      "        PG3 :   2.9\n",
      "    generator_pmin : Size=3, Index=generators, Domain=Any, Default=None, Mutable=False\n",
      "        Key : Value\n",
      "        PG1 :   0.0\n",
      "        PG2 :   0.0\n",
      "        PG3 :   0.0\n",
      "    line_from : Size=3, Index=lines, Domain=Any, Default=None, Mutable=False\n",
      "        Key    : Value\n",
      "        Line 1 : Bus 1\n",
      "        Line 2 : Bus 1\n",
      "        Line 3 : Bus 2\n",
      "    line_to : Size=3, Index=lines, Domain=Any, Default=None, Mutable=False\n",
      "        Key    : Value\n",
      "        Line 1 : Bus 2\n",
      "        Line 2 : Bus 3\n",
      "        Line 3 : Bus 3\n",
      "    line_x : Size=3, Index=lines, Domain=Any, Default=None, Mutable=False\n",
      "        Key    : Value\n",
      "        Line 1 : -1.4000000000000001\n",
      "        Line 2 : -0.9900990099009901\n",
      "        Line 3 :                -2.0\n",
      "    load_bus : Size=2, Index=loads, Domain=Any, Default=None, Mutable=False\n",
      "        Key : Value\n",
      "        PL2 : Bus 2\n",
      "        PL3 : Bus 3\n",
      "    load_p : Size=2, Index=loads, Domain=Any, Default=None, Mutable=False\n",
      "        Key : Value\n",
      "        PL2 :  0.57\n",
      "        PL3 :   4.8\n",
      "\n",
      "2 Var Declarations\n",
      "    p : Active Power Generation (pu)\n",
      "        Size=3, Index=generators\n",
      "        Key : Lower : Value : Upper : Fixed : Stale : Domain\n",
      "        PG1 :   0.0 :  None :   2.5 : False :  True :  Reals\n",
      "        PG2 :   0.0 :  None :  1.57 : False :  True :  Reals\n",
      "        PG3 :   0.0 :  None :   2.9 : False :  True :  Reals\n",
      "    theta : Bus angles ref to Slack\n",
      "        Size=3, Index=buses\n",
      "        Key   : Lower : Value : Upper : Fixed : Stale : Domain\n",
      "        Bus 1 :  None :     0 :  None :  True : False :  Reals\n",
      "        Bus 2 :  None :  None :  None : False :  True :  Reals\n",
      "        Bus 3 :  None :  None :  None : False :  True :  Reals\n",
      "\n",
      "1 Objective Declarations\n",
      "    obj : Size=1, Index=None, Active=True\n",
      "        Key  : Active : Sense    : Expression\n",
      "        None :   True : minimize : 1697.0*p[PG1] + 269.875*p[PG1]**2 + 0.07253333333333332*p[PG1]**3 + 1086.0*p[PG2] + 967.75*p[PG2]**2 + 0.646*p[PG2]**3 + 1879.0*p[PG3] + 465.58000000000004*p[PG3]**2 + 0.04856666666666667*p[PG3]**3\n",
      "\n",
      "1 Constraint Declarations\n",
      "    balance_with_net : Balance of Generation and Load with Network Rule\n",
      "        Size=3, Index=buses, Active=True\n",
      "        Key   : Lower : Body                                                                                                             : Upper : Active\n",
      "        Bus 1 :   0.0 : p[PG1] - ((theta[Bus 2] - theta[Bus 1])/-1.4000000000000001 + (theta[Bus 3] - theta[Bus 1])/-0.9900990099009901) :   0.0 :   True\n",
      "        Bus 2 :  0.57 :                  p[PG2] - (theta[Bus 3] - theta[Bus 2])/-2.0 + (theta[Bus 1] - theta[Bus 2])/-1.4000000000000001 :  0.57 :   True\n",
      "        Bus 3 :   4.8 :                  (theta[Bus 1] - theta[Bus 3])/-0.9900990099009901 + (theta[Bus 2] - theta[Bus 3])/-2.0 + p[PG3] :   4.8 :   True\n",
      "\n",
      "21 Declarations: generators loads buses lines generator_bus generator_pmax generator_pmin generator_cost_a generator_cost_b generator_cost_c load_bus load_p line_from line_to line_x flow_max bus_type p theta balance_with_net obj\n"
     ]
    }
   ],
   "source": [
    "solver.model.pprint()"
   ]
  },
  {
   "cell_type": "code",
   "execution_count": 5,
   "id": "7562ed4b",
   "metadata": {},
   "outputs": [
    {
     "name": "stdout",
     "output_type": "stream",
     "text": [
      "Ipopt 3.14.17: \n",
      "\n",
      "******************************************************************************\n",
      "This program contains Ipopt, a library for large-scale nonlinear optimization.\n",
      " Ipopt is released as open source code under the Eclipse Public License (EPL).\n",
      "         For more information visit https://github.com/coin-or/Ipopt\n",
      "******************************************************************************\n",
      "\n",
      "This is Ipopt version 3.14.17, running with linear solver MUMPS 5.7.3.\n",
      "\n",
      "Number of nonzeros in equality constraint Jacobian...:        9\n",
      "Number of nonzeros in inequality constraint Jacobian.:        0\n",
      "Number of nonzeros in Lagrangian Hessian.............:        3\n",
      "\n",
      "Total number of variables............................:        5\n",
      "                     variables with only lower bounds:        0\n",
      "                variables with lower and upper bounds:        3\n",
      "                     variables with only upper bounds:        0\n",
      "Total number of equality constraints.................:        3\n",
      "Total number of inequality constraints...............:        0\n",
      "        inequality constraints with only lower bounds:        0\n",
      "   inequality constraints with lower and upper bounds:        0\n",
      "        inequality constraints with only upper bounds:        0\n",
      "\n",
      "iter    objective    inf_pr   inf_du lg(mu)  ||d||  lg(rg) alpha_du alpha_pr  ls\n",
      "   0  4.6790274e+01 4.79e+00 8.39e+01  -1.0 0.00e+00    -  0.00e+00 0.00e+00   0\n",
      "   1  1.0297358e+01 4.72e+00 5.88e+01  -1.0 2.82e+00    -  8.05e-01 1.48e-02f  1\n",
      "   2  1.7942973e+02 8.88e-16 3.63e+02  -1.0 3.02e+00    -  5.44e-02 1.00e+00h  1\n",
      "   3  1.7965681e+02 4.44e-16 6.34e-09  -1.0 1.27e-03    -  1.00e+00 1.00e+00f  1\n",
      "   4  1.7584638e+02 1.11e-16 1.29e-08  -2.5 1.29e-03    -  1.00e+00 1.00e+00f  1\n",
      "   5  1.7574622e+02 1.11e-16 1.10e-11  -3.8 2.57e-05    -  1.00e+00 1.00e+00f  1\n",
      "   6  1.7574064e+02 8.88e-16 3.49e-14  -5.7 1.40e-06    -  1.00e+00 1.00e+00f  1\n",
      "   7  1.7574057e+02 8.88e-16 1.08e-14  -8.6 1.73e-08    -  1.00e+00 1.00e+00f  1\n",
      "\n",
      "Number of Iterations....: 7\n",
      "\n",
      "                                   (scaled)                 (unscaled)\n",
      "Objective...............:   9.3528774707751801e+00    1.7574056767586563e+02\n",
      "Dual infeasibility......:   1.0804346546394120e-14    2.0301367160674555e-13\n",
      "Constraint violation....:   8.8817841970012523e-16    8.8817841970012523e-16\n",
      "Variable bound violation:   9.9785092537195958e-09    9.9785092537195958e-09\n",
      "Complementarity.........:   2.5059968195098096e-09    4.7087680238589324e-08\n",
      "Overall NLP error.......:   2.5059968195098096e-09    4.7087680238589324e-08\n",
      "\n",
      "\n",
      "Number of objective function evaluations             = 8\n",
      "Number of objective gradient evaluations             = 8\n",
      "Number of equality constraint evaluations            = 8\n",
      "Number of inequality constraint evaluations          = 0\n",
      "Number of equality constraint Jacobian evaluations   = 8\n",
      "Number of inequality constraint Jacobian evaluations = 0\n",
      "Number of Lagrangian Hessian evaluations             = 7\n",
      "Total seconds in IPOPT                               = 0.009\n",
      "\n",
      "EXIT: Optimal Solution Found.\n",
      "\b"
     ]
    },
    {
     "data": {
      "application/vnd.microsoft.datawrangler.viewer.v0+json": {
       "columns": [
        {
         "name": "index",
         "rawType": "int64",
         "type": "integer"
        },
        {
         "name": "Objective Value",
         "rawType": "float64",
         "type": "float"
        },
        {
         "name": "Total Cost",
         "rawType": "object",
         "type": "string"
        },
        {
         "name": "Generators Power (pu)",
         "rawType": "object",
         "type": "unknown"
        },
        {
         "name": "Bus Angles",
         "rawType": "object",
         "type": "unknown"
        },
        {
         "name": "Line Flows (pu)",
         "rawType": "object",
         "type": "unknown"
        }
       ],
       "ref": "a4df9f85-3b5e-4f74-830a-ec8fa6239672",
       "rows": [
        [
         "0",
         "175.74056767586563",
         "Total Cost: $ 175.74056767586563",
         "{'PG1': -9.978509253719596e-09, 'PG2': 0.14347766802972223, 'PG3': -9.976459072770715e-09}",
         "{'Bus 1': 0, 'Bus 2': -3.0614343676193703, 'Bus 3': 2.1650879643488565}",
         "{'Line 1': np.float64(2.186738834013836), 'Line 2': np.float64(-2.186738843992345), 'Line 3': np.float64(-2.613261165984113)}"
        ]
       ],
       "shape": {
        "columns": 5,
        "rows": 1
       }
      },
      "text/html": [
       "<div>\n",
       "<style scoped>\n",
       "    .dataframe tbody tr th:only-of-type {\n",
       "        vertical-align: middle;\n",
       "    }\n",
       "\n",
       "    .dataframe tbody tr th {\n",
       "        vertical-align: top;\n",
       "    }\n",
       "\n",
       "    .dataframe thead th {\n",
       "        text-align: right;\n",
       "    }\n",
       "</style>\n",
       "<table border=\"1\" class=\"dataframe\">\n",
       "  <thead>\n",
       "    <tr style=\"text-align: right;\">\n",
       "      <th></th>\n",
       "      <th>Objective Value</th>\n",
       "      <th>Total Cost</th>\n",
       "      <th>Generators Power (pu)</th>\n",
       "      <th>Bus Angles</th>\n",
       "      <th>Line Flows (pu)</th>\n",
       "    </tr>\n",
       "  </thead>\n",
       "  <tbody>\n",
       "    <tr>\n",
       "      <th>0</th>\n",
       "      <td>175.740568</td>\n",
       "      <td>Total Cost: $ 175.74056767586563</td>\n",
       "      <td>{'PG1': -9.978509253719596e-09, 'PG2': 0.14347...</td>\n",
       "      <td>{'Bus 1': 0, 'Bus 2': -3.0614343676193703, 'Bu...</td>\n",
       "      <td>{'Line 1': 2.186738834013836, 'Line 2': -2.186...</td>\n",
       "    </tr>\n",
       "  </tbody>\n",
       "</table>\n",
       "</div>"
      ],
      "text/plain": [
       "   Objective Value                        Total Cost  \\\n",
       "0       175.740568  Total Cost: $ 175.74056767586563   \n",
       "\n",
       "                               Generators Power (pu)  \\\n",
       "0  {'PG1': -9.978509253719596e-09, 'PG2': 0.14347...   \n",
       "\n",
       "                                          Bus Angles  \\\n",
       "0  {'Bus 1': 0, 'Bus 2': -3.0614343676193703, 'Bu...   \n",
       "\n",
       "                                     Line Flows (pu)  \n",
       "0  {'Line 1': 2.186738834013836, 'Line 2': -2.186...  "
      ]
     },
     "execution_count": 5,
     "metadata": {},
     "output_type": "execute_result"
    }
   ],
   "source": [
    "results = solver.solve(tee=True)\n",
    "results"
   ]
  }
 ],
 "metadata": {
  "kernelspec": {
   "display_name": "optimization",
   "language": "python",
   "name": "python3"
  },
  "language_info": {
   "codemirror_mode": {
    "name": "ipython",
    "version": 3
   },
   "file_extension": ".py",
   "mimetype": "text/x-python",
   "name": "python",
   "nbconvert_exporter": "python",
   "pygments_lexer": "ipython3",
   "version": "3.12.3"
  }
 },
 "nbformat": 4,
 "nbformat_minor": 5
}
